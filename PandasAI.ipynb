{
 "cells": [
  {
   "cell_type": "code",
   "execution_count": 2,
   "id": "e23632db",
   "metadata": {},
   "outputs": [
    {
     "name": "stdout",
     "output_type": "stream",
     "text": [
      "Requirement already satisfied: pandasai in c:\\users\\hani4\\anaconda3\\lib\\site-packages (1.4)\n",
      "Requirement already satisfied: duckdb<0.9.0,>=0.8.1 in c:\\users\\hani4\\anaconda3\\lib\\site-packages (from pandasai) (0.8.1)\n",
      "Requirement already satisfied: matplotlib<4.0.0,>=3.7.1 in c:\\users\\hani4\\anaconda3\\lib\\site-packages (from pandasai) (3.8.0)\n",
      "Requirement already satisfied: openai<0.28.0,>=0.27.5 in c:\\users\\hani4\\anaconda3\\lib\\site-packages (from pandasai) (0.27.10)\n",
      "Requirement already satisfied: pandas==1.5.3 in c:\\users\\hani4\\anaconda3\\lib\\site-packages (from pandasai) (1.5.3)\n",
      "Requirement already satisfied: ipython<9.0.0,>=8.13.1 in c:\\users\\hani4\\anaconda3\\lib\\site-packages (from pandasai) (8.16.1)\n",
      "Requirement already satisfied: python-dotenv<2.0.0,>=1.0.0 in c:\\users\\hani4\\anaconda3\\lib\\site-packages (from pandasai) (1.0.0)\n",
      "Requirement already satisfied: scipy<2.0.0,>=1.9.0 in c:\\users\\hani4\\anaconda3\\lib\\site-packages (from pandasai) (1.9.1)\n",
      "Requirement already satisfied: astor<0.9.0,>=0.8.1 in c:\\users\\hani4\\anaconda3\\lib\\site-packages (from pandasai) (0.8.1)\n",
      "Requirement already satisfied: pydantic<2,>=1 in c:\\users\\hani4\\anaconda3\\lib\\site-packages (from pandasai) (1.10.12)\n",
      "Requirement already satisfied: sqlalchemy<2.0.0,>=1.4.49 in c:\\users\\hani4\\anaconda3\\lib\\site-packages (from pandasai) (1.4.49)\n",
      "Requirement already satisfied: pytz>=2020.1 in c:\\users\\hani4\\anaconda3\\lib\\site-packages (from pandas==1.5.3->pandasai) (2022.1)\n",
      "Requirement already satisfied: python-dateutil>=2.8.1 in c:\\users\\hani4\\anaconda3\\lib\\site-packages (from pandas==1.5.3->pandasai) (2.8.2)\n",
      "Requirement already satisfied: numpy>=1.20.3 in c:\\users\\hani4\\anaconda3\\lib\\site-packages (from pandas==1.5.3->pandasai) (1.21.5)\n",
      "Requirement already satisfied: pickleshare in c:\\users\\hani4\\anaconda3\\lib\\site-packages (from ipython<9.0.0,>=8.13.1->pandasai) (0.7.5)\n",
      "Requirement already satisfied: matplotlib-inline in c:\\users\\hani4\\anaconda3\\lib\\site-packages (from ipython<9.0.0,>=8.13.1->pandasai) (0.1.6)\n",
      "Requirement already satisfied: jedi>=0.16 in c:\\users\\hani4\\anaconda3\\lib\\site-packages (from ipython<9.0.0,>=8.13.1->pandasai) (0.18.1)\n",
      "Requirement already satisfied: pygments>=2.4.0 in c:\\users\\hani4\\anaconda3\\lib\\site-packages (from ipython<9.0.0,>=8.13.1->pandasai) (2.11.2)\n",
      "Requirement already satisfied: stack-data in c:\\users\\hani4\\anaconda3\\lib\\site-packages (from ipython<9.0.0,>=8.13.1->pandasai) (0.6.3)\n",
      "Requirement already satisfied: typing-extensions in c:\\users\\hani4\\anaconda3\\lib\\site-packages (from ipython<9.0.0,>=8.13.1->pandasai) (4.3.0)\n",
      "Requirement already satisfied: colorama in c:\\users\\hani4\\anaconda3\\lib\\site-packages (from ipython<9.0.0,>=8.13.1->pandasai) (0.4.5)\n",
      "Requirement already satisfied: decorator in c:\\users\\hani4\\anaconda3\\lib\\site-packages (from ipython<9.0.0,>=8.13.1->pandasai) (5.1.1)\n",
      "Requirement already satisfied: prompt-toolkit!=3.0.37,<3.1.0,>=3.0.30 in c:\\users\\hani4\\anaconda3\\lib\\site-packages (from ipython<9.0.0,>=8.13.1->pandasai) (3.0.39)\n",
      "Requirement already satisfied: backcall in c:\\users\\hani4\\anaconda3\\lib\\site-packages (from ipython<9.0.0,>=8.13.1->pandasai) (0.2.0)\n",
      "Requirement already satisfied: traitlets>=5 in c:\\users\\hani4\\anaconda3\\lib\\site-packages (from ipython<9.0.0,>=8.13.1->pandasai) (5.1.1)\n",
      "Requirement already satisfied: exceptiongroup in c:\\users\\hani4\\anaconda3\\lib\\site-packages (from ipython<9.0.0,>=8.13.1->pandasai) (1.1.3)\n",
      "Requirement already satisfied: cycler>=0.10 in c:\\users\\hani4\\anaconda3\\lib\\site-packages (from matplotlib<4.0.0,>=3.7.1->pandasai) (0.11.0)\n",
      "Requirement already satisfied: packaging>=20.0 in c:\\users\\hani4\\anaconda3\\lib\\site-packages (from matplotlib<4.0.0,>=3.7.1->pandasai) (21.3)\n",
      "Requirement already satisfied: pillow>=6.2.0 in c:\\users\\hani4\\anaconda3\\lib\\site-packages (from matplotlib<4.0.0,>=3.7.1->pandasai) (9.2.0)\n",
      "Requirement already satisfied: importlib-resources>=3.2.0 in c:\\users\\hani4\\anaconda3\\lib\\site-packages (from matplotlib<4.0.0,>=3.7.1->pandasai) (6.1.0)\n",
      "Requirement already satisfied: contourpy>=1.0.1 in c:\\users\\hani4\\anaconda3\\lib\\site-packages (from matplotlib<4.0.0,>=3.7.1->pandasai) (1.1.1)\n",
      "Requirement already satisfied: kiwisolver>=1.0.1 in c:\\users\\hani4\\anaconda3\\lib\\site-packages (from matplotlib<4.0.0,>=3.7.1->pandasai) (1.4.2)\n",
      "Requirement already satisfied: pyparsing>=2.3.1 in c:\\users\\hani4\\anaconda3\\lib\\site-packages (from matplotlib<4.0.0,>=3.7.1->pandasai) (3.0.9)\n",
      "Requirement already satisfied: fonttools>=4.22.0 in c:\\users\\hani4\\anaconda3\\lib\\site-packages (from matplotlib<4.0.0,>=3.7.1->pandasai) (4.25.0)\n",
      "Requirement already satisfied: requests>=2.20 in c:\\users\\hani4\\anaconda3\\lib\\site-packages (from openai<0.28.0,>=0.27.5->pandasai) (2.28.1)\n",
      "Requirement already satisfied: tqdm in c:\\users\\hani4\\anaconda3\\lib\\site-packages (from openai<0.28.0,>=0.27.5->pandasai) (4.64.1)\n",
      "Requirement already satisfied: aiohttp in c:\\users\\hani4\\anaconda3\\lib\\site-packages (from openai<0.28.0,>=0.27.5->pandasai) (3.8.6)\n",
      "Requirement already satisfied: greenlet!=0.4.17 in c:\\users\\hani4\\anaconda3\\lib\\site-packages (from sqlalchemy<2.0.0,>=1.4.49->pandasai) (1.1.1)\n",
      "Requirement already satisfied: zipp>=3.1.0 in c:\\users\\hani4\\anaconda3\\lib\\site-packages (from importlib-resources>=3.2.0->matplotlib<4.0.0,>=3.7.1->pandasai) (3.8.0)\n",
      "Requirement already satisfied: parso<0.9.0,>=0.8.0 in c:\\users\\hani4\\anaconda3\\lib\\site-packages (from jedi>=0.16->ipython<9.0.0,>=8.13.1->pandasai) (0.8.3)\n",
      "Requirement already satisfied: wcwidth in c:\\users\\hani4\\anaconda3\\lib\\site-packages (from prompt-toolkit!=3.0.37,<3.1.0,>=3.0.30->ipython<9.0.0,>=8.13.1->pandasai) (0.2.5)\n",
      "Requirement already satisfied: six>=1.5 in c:\\users\\hani4\\anaconda3\\lib\\site-packages (from python-dateutil>=2.8.1->pandas==1.5.3->pandasai) (1.16.0)\n",
      "Requirement already satisfied: charset-normalizer<3,>=2 in c:\\users\\hani4\\anaconda3\\lib\\site-packages (from requests>=2.20->openai<0.28.0,>=0.27.5->pandasai) (2.0.4)\n",
      "Requirement already satisfied: idna<4,>=2.5 in c:\\users\\hani4\\anaconda3\\lib\\site-packages (from requests>=2.20->openai<0.28.0,>=0.27.5->pandasai) (3.3)\n",
      "Requirement already satisfied: certifi>=2017.4.17 in c:\\users\\hani4\\anaconda3\\lib\\site-packages (from requests>=2.20->openai<0.28.0,>=0.27.5->pandasai) (2022.9.14)\n",
      "Requirement already satisfied: urllib3<1.27,>=1.21.1 in c:\\users\\hani4\\anaconda3\\lib\\site-packages (from requests>=2.20->openai<0.28.0,>=0.27.5->pandasai) (1.26.11)\n",
      "Requirement already satisfied: yarl<2.0,>=1.0 in c:\\users\\hani4\\anaconda3\\lib\\site-packages (from aiohttp->openai<0.28.0,>=0.27.5->pandasai) (1.9.2)\n",
      "Requirement already satisfied: async-timeout<5.0,>=4.0.0a3 in c:\\users\\hani4\\anaconda3\\lib\\site-packages (from aiohttp->openai<0.28.0,>=0.27.5->pandasai) (4.0.3)\n",
      "Requirement already satisfied: aiosignal>=1.1.2 in c:\\users\\hani4\\anaconda3\\lib\\site-packages (from aiohttp->openai<0.28.0,>=0.27.5->pandasai) (1.3.1)\n",
      "Requirement already satisfied: frozenlist>=1.1.1 in c:\\users\\hani4\\anaconda3\\lib\\site-packages (from aiohttp->openai<0.28.0,>=0.27.5->pandasai) (1.4.0)\n",
      "Requirement already satisfied: attrs>=17.3.0 in c:\\users\\hani4\\anaconda3\\lib\\site-packages (from aiohttp->openai<0.28.0,>=0.27.5->pandasai) (21.4.0)\n",
      "Requirement already satisfied: multidict<7.0,>=4.5 in c:\\users\\hani4\\anaconda3\\lib\\site-packages (from aiohttp->openai<0.28.0,>=0.27.5->pandasai) (6.0.4)\n",
      "Requirement already satisfied: asttokens>=2.1.0 in c:\\users\\hani4\\anaconda3\\lib\\site-packages (from stack-data->ipython<9.0.0,>=8.13.1->pandasai) (2.4.0)\n",
      "Requirement already satisfied: executing>=1.2.0 in c:\\users\\hani4\\anaconda3\\lib\\site-packages (from stack-data->ipython<9.0.0,>=8.13.1->pandasai) (2.0.0)\n",
      "Requirement already satisfied: pure-eval in c:\\users\\hani4\\anaconda3\\lib\\site-packages (from stack-data->ipython<9.0.0,>=8.13.1->pandasai) (0.2.2)\n"
     ]
    }
   ],
   "source": [
    "!pip install pandasai"
   ]
  },
  {
   "cell_type": "code",
   "execution_count": 3,
   "id": "b0c035e8",
   "metadata": {},
   "outputs": [
    {
     "name": "stdout",
     "output_type": "stream",
     "text": [
      "Requirement already satisfied: OpenAI in c:\\users\\hani4\\anaconda3\\lib\\site-packages (0.27.10)\n",
      "Requirement already satisfied: aiohttp in c:\\users\\hani4\\anaconda3\\lib\\site-packages (from OpenAI) (3.8.6)\n",
      "Requirement already satisfied: requests>=2.20 in c:\\users\\hani4\\anaconda3\\lib\\site-packages (from OpenAI) (2.28.1)\n",
      "Requirement already satisfied: tqdm in c:\\users\\hani4\\anaconda3\\lib\\site-packages (from OpenAI) (4.64.1)\n",
      "Requirement already satisfied: idna<4,>=2.5 in c:\\users\\hani4\\anaconda3\\lib\\site-packages (from requests>=2.20->OpenAI) (3.3)\n",
      "Requirement already satisfied: urllib3<1.27,>=1.21.1 in c:\\users\\hani4\\anaconda3\\lib\\site-packages (from requests>=2.20->OpenAI) (1.26.11)\n",
      "Requirement already satisfied: charset-normalizer<3,>=2 in c:\\users\\hani4\\anaconda3\\lib\\site-packages (from requests>=2.20->OpenAI) (2.0.4)\n",
      "Requirement already satisfied: certifi>=2017.4.17 in c:\\users\\hani4\\anaconda3\\lib\\site-packages (from requests>=2.20->OpenAI) (2022.9.14)\n",
      "Requirement already satisfied: multidict<7.0,>=4.5 in c:\\users\\hani4\\anaconda3\\lib\\site-packages (from aiohttp->OpenAI) (6.0.4)\n",
      "Requirement already satisfied: frozenlist>=1.1.1 in c:\\users\\hani4\\anaconda3\\lib\\site-packages (from aiohttp->OpenAI) (1.4.0)\n",
      "Requirement already satisfied: aiosignal>=1.1.2 in c:\\users\\hani4\\anaconda3\\lib\\site-packages (from aiohttp->OpenAI) (1.3.1)\n",
      "Requirement already satisfied: attrs>=17.3.0 in c:\\users\\hani4\\anaconda3\\lib\\site-packages (from aiohttp->OpenAI) (21.4.0)\n",
      "Requirement already satisfied: async-timeout<5.0,>=4.0.0a3 in c:\\users\\hani4\\anaconda3\\lib\\site-packages (from aiohttp->OpenAI) (4.0.3)\n",
      "Requirement already satisfied: yarl<2.0,>=1.0 in c:\\users\\hani4\\anaconda3\\lib\\site-packages (from aiohttp->OpenAI) (1.9.2)\n",
      "Requirement already satisfied: colorama in c:\\users\\hani4\\anaconda3\\lib\\site-packages (from tqdm->OpenAI) (0.4.5)\n"
     ]
    }
   ],
   "source": [
    "!pip install OpenAI"
   ]
  },
  {
   "cell_type": "code",
   "execution_count": 1,
   "id": "bc35f480",
   "metadata": {},
   "outputs": [
    {
     "data": {
      "text/html": [
       "<div>\n",
       "<style scoped>\n",
       "    .dataframe tbody tr th:only-of-type {\n",
       "        vertical-align: middle;\n",
       "    }\n",
       "\n",
       "    .dataframe tbody tr th {\n",
       "        vertical-align: top;\n",
       "    }\n",
       "\n",
       "    .dataframe thead th {\n",
       "        text-align: right;\n",
       "    }\n",
       "</style>\n",
       "<table border=\"1\" class=\"dataframe\">\n",
       "  <thead>\n",
       "    <tr style=\"text-align: right;\">\n",
       "      <th></th>\n",
       "      <th>index</th>\n",
       "      <th>coffeeName</th>\n",
       "      <th>rating</th>\n",
       "      <th>rating_count</th>\n",
       "      <th>url</th>\n",
       "      <th>24_hours</th>\n",
       "      <th>lon</th>\n",
       "      <th>lan</th>\n",
       "    </tr>\n",
       "  </thead>\n",
       "  <tbody>\n",
       "    <tr>\n",
       "      <th>0</th>\n",
       "      <td>0</td>\n",
       "      <td>Cacti Cafe</td>\n",
       "      <td>4.2</td>\n",
       "      <td>2212</td>\n",
       "      <td>https://www.google.com/maps/place/Cacti+Cafe/d...</td>\n",
       "      <td>True</td>\n",
       "      <td>46.7356133</td>\n",
       "      <td>24.8339855</td>\n",
       "    </tr>\n",
       "    <tr>\n",
       "      <th>1</th>\n",
       "      <td>1</td>\n",
       "      <td>فازا قهوة مختصة</td>\n",
       "      <td>4.3</td>\n",
       "      <td>889</td>\n",
       "      <td>https://www.google.com/maps/place/%D9%81%D8%A7...</td>\n",
       "      <td>False</td>\n",
       "      <td>46.6973369</td>\n",
       "      <td>24.7724577</td>\n",
       "    </tr>\n",
       "    <tr>\n",
       "      <th>2</th>\n",
       "      <td>2</td>\n",
       "      <td>ناريز</td>\n",
       "      <td>3.8</td>\n",
       "      <td>39</td>\n",
       "      <td>https://www.google.com/maps/place/%D9%86%D8%A7...</td>\n",
       "      <td>False</td>\n",
       "      <td>46.8521092</td>\n",
       "      <td>24.8072766</td>\n",
       "    </tr>\n",
       "    <tr>\n",
       "      <th>3</th>\n",
       "      <td>3</td>\n",
       "      <td>Fc Lounge - اف سي لاونج</td>\n",
       "      <td>3.5</td>\n",
       "      <td>539</td>\n",
       "      <td>https://www.google.com/maps/place/Fc+Lounge+-+...</td>\n",
       "      <td>True</td>\n",
       "      <td>46.7680585</td>\n",
       "      <td>24.8131149</td>\n",
       "    </tr>\n",
       "    <tr>\n",
       "      <th>4</th>\n",
       "      <td>4</td>\n",
       "      <td>PEAKS</td>\n",
       "      <td>4.6</td>\n",
       "      <td>25</td>\n",
       "      <td>https://www.google.com/maps/place/PEAKS/data=!...</td>\n",
       "      <td>False</td>\n",
       "      <td>46.6348092</td>\n",
       "      <td>24.742045</td>\n",
       "    </tr>\n",
       "  </tbody>\n",
       "</table>\n",
       "</div>"
      ],
      "text/plain": [
       "   index               coffeeName  rating  rating_count  \\\n",
       "0      0               Cacti Cafe     4.2          2212   \n",
       "1      1          فازا قهوة مختصة     4.3           889   \n",
       "2      2                    ناريز     3.8            39   \n",
       "3      3  Fc Lounge - اف سي لاونج     3.5           539   \n",
       "4      4                    PEAKS     4.6            25   \n",
       "\n",
       "                                                 url  24_hours         lon  \\\n",
       "0  https://www.google.com/maps/place/Cacti+Cafe/d...      True  46.7356133   \n",
       "1  https://www.google.com/maps/place/%D9%81%D8%A7...     False  46.6973369   \n",
       "2  https://www.google.com/maps/place/%D9%86%D8%A7...     False  46.8521092   \n",
       "3  https://www.google.com/maps/place/Fc+Lounge+-+...      True  46.7680585   \n",
       "4  https://www.google.com/maps/place/PEAKS/data=!...     False  46.6348092   \n",
       "\n",
       "          lan  \n",
       "0  24.8339855  \n",
       "1  24.7724577  \n",
       "2  24.8072766  \n",
       "3  24.8131149  \n",
       "4   24.742045  "
      ]
     },
     "execution_count": 1,
     "metadata": {},
     "output_type": "execute_result"
    }
   ],
   "source": [
    "# استيراد مكتبة Pandas وايضاً مكتبة PandasAI\n",
    "import pandas as pd\n",
    "from pandasai import SmartDataframe\n",
    "\n",
    "# قراءة ملف بيانات كافيهات الرياض\n",
    "df = pd.read_csv('data/riyadh_cafes.csv')\n",
    "df.head()\n",
    "\n"
   ]
  },
  {
   "cell_type": "code",
   "execution_count": 2,
   "id": "96e20c19",
   "metadata": {},
   "outputs": [],
   "source": [
    "# إنشاء API الخاص فيك\n",
    "from pandasai.llm import OpenAI\n",
    "llm = OpenAI(api_token=\"YOUR API TOKEN\")\n",
    "\n",
    "df = SmartDataframe(df, config={\"llm\": llm})\n"
   ]
  },
  {
   "cell_type": "code",
   "execution_count": 3,
   "id": "89d6e27c",
   "metadata": {},
   "outputs": [
    {
     "data": {
      "text/plain": [
       "'The coffee with the largest rating count is Urth Caffe.'"
      ]
     },
     "execution_count": 3,
     "metadata": {},
     "output_type": "execute_result"
    }
   ],
   "source": [
    "# ما هو الكوفي الذي يملك أكبر عدد تصنيف؟\n",
    "df.chat('Which are coffee the largest rating count?')"
   ]
  },
  {
   "cell_type": "code",
   "execution_count": 4,
   "id": "724ecb5c",
   "metadata": {},
   "outputs": [
    {
     "data": {
      "text/plain": [
       "10265"
      ]
     },
     "execution_count": 4,
     "metadata": {},
     "output_type": "execute_result"
    }
   ],
   "source": [
    "#كم عدد الاشخاص الذين صنفو كوفي Urth Caffe \n",
    "df.chat('how many people rating count in Urth Caffe')"
   ]
  },
  {
   "cell_type": "code",
   "execution_count": 5,
   "id": "9351ce79",
   "metadata": {},
   "outputs": [
    {
     "data": {
      "text/plain": [
       "'There are 710 cafes that are open 24 hours.'"
      ]
     },
     "execution_count": 5,
     "metadata": {},
     "output_type": "execute_result"
    }
   ],
   "source": [
    "#كم عدد الكافيهات التي تفتح 24 ساعة؟\n",
    "df.chat('how many cafes open 24 hours')"
   ]
  },
  {
   "cell_type": "code",
   "execution_count": 6,
   "id": "db8aa111",
   "metadata": {},
   "outputs": [
    {
     "data": {
      "image/png": "[encoded data removed]",
      "text/plain": [
       "<Figure size 640x480 with 1 Axes>"
      ]
     },
     "metadata": {},
     "output_type": "display_data"
    }
   ],
   "source": [
    "#عرض الرسم البياني لأكبر 5 تصنيفات بألوان مختلفة\n",
    "df.chat('display histogram for 5 largest rating count with diffrent color')"
   ]
  }
 ],
 "metadata": {
  "kernelspec": {
   "display_name": "Python 3 (ipykernel)",
   "language": "python",
   "name": "python3"
  },
  "language_info": {
   "codemirror_mode": {
    "name": "ipython",
    "version": 3
   },
   "file_extension": ".py",
   "mimetype": "text/x-python",
   "name": "python",
   "nbconvert_exporter": "python",
   "pygments_lexer": "ipython3",
   "version": "3.9.13"
  }
 },
 "nbformat": 4,
 "nbformat_minor": 5
}
